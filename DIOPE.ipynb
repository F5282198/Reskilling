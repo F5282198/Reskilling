{
  "nbformat": 4,
  "nbformat_minor": 0,
  "metadata": {
    "colab": {
      "provenance": []
    },
    "kernelspec": {
      "name": "python3",
      "display_name": "Python 3"
    },
    "language_info": {
      "name": "python"
    }
  },
  "cells": [
    {
      "cell_type": "code",
      "source": [
        "from google.colab import files\n",
        "files.upload()"
      ],
      "metadata": {
        "id": "jttAk1hwHb_Z"
      },
      "execution_count": null,
      "outputs": []
    },
    {
      "cell_type": "code",
      "source": [
        "import pandas as pd\n",
        "df = pd.read_csv('Eventos_ofertas_51.csv', sep=';')"
      ],
      "metadata": {
        "id": "q7Ux-DpBHjQJ"
      },
      "execution_count": 1,
      "outputs": []
    },
    {
      "cell_type": "code",
      "source": [
        "###print(df.dtypes)\n",
        "df.head()"
      ],
      "metadata": {
        "id": "6grdagbdHodA",
        "colab": {
          "base_uri": "https://localhost:8080/",
          "height": 206
        },
        "outputId": "700d58c8-9e4b-45f8-e9e0-5b26a9517495"
      },
      "execution_count": 6,
      "outputs": [
        {
          "output_type": "execute_result",
          "data": {
            "text/plain": [
              "   Cliente  Creditos  Tipo_papel  Mes   Ano  Oferta_compativel  Compra_feita\n",
              "0     1728  28341,51          21    6  2022                  1             0\n",
              "1     1728  27898,14          21   12  2022                  1             0\n",
              "2     1821    619,00          60    3  2022                  0             0\n",
              "3     1821    364,32          60    8  2022                  0             0\n",
              "4     1821   1048,96          60    9  2022                  0             0"
            ],
            "text/html": [
              "\n",
              "  <div id=\"df-0e5d86e5-2ac4-46f2-b64b-a5c2a465a103\">\n",
              "    <div class=\"colab-df-container\">\n",
              "      <div>\n",
              "<style scoped>\n",
              "    .dataframe tbody tr th:only-of-type {\n",
              "        vertical-align: middle;\n",
              "    }\n",
              "\n",
              "    .dataframe tbody tr th {\n",
              "        vertical-align: top;\n",
              "    }\n",
              "\n",
              "    .dataframe thead th {\n",
              "        text-align: right;\n",
              "    }\n",
              "</style>\n",
              "<table border=\"1\" class=\"dataframe\">\n",
              "  <thead>\n",
              "    <tr style=\"text-align: right;\">\n",
              "      <th></th>\n",
              "      <th>Cliente</th>\n",
              "      <th>Creditos</th>\n",
              "      <th>Tipo_papel</th>\n",
              "      <th>Mes</th>\n",
              "      <th>Ano</th>\n",
              "      <th>Oferta_compativel</th>\n",
              "      <th>Compra_feita</th>\n",
              "    </tr>\n",
              "  </thead>\n",
              "  <tbody>\n",
              "    <tr>\n",
              "      <th>0</th>\n",
              "      <td>1728</td>\n",
              "      <td>28341,51</td>\n",
              "      <td>21</td>\n",
              "      <td>6</td>\n",
              "      <td>2022</td>\n",
              "      <td>1</td>\n",
              "      <td>0</td>\n",
              "    </tr>\n",
              "    <tr>\n",
              "      <th>1</th>\n",
              "      <td>1728</td>\n",
              "      <td>27898,14</td>\n",
              "      <td>21</td>\n",
              "      <td>12</td>\n",
              "      <td>2022</td>\n",
              "      <td>1</td>\n",
              "      <td>0</td>\n",
              "    </tr>\n",
              "    <tr>\n",
              "      <th>2</th>\n",
              "      <td>1821</td>\n",
              "      <td>619,00</td>\n",
              "      <td>60</td>\n",
              "      <td>3</td>\n",
              "      <td>2022</td>\n",
              "      <td>0</td>\n",
              "      <td>0</td>\n",
              "    </tr>\n",
              "    <tr>\n",
              "      <th>3</th>\n",
              "      <td>1821</td>\n",
              "      <td>364,32</td>\n",
              "      <td>60</td>\n",
              "      <td>8</td>\n",
              "      <td>2022</td>\n",
              "      <td>0</td>\n",
              "      <td>0</td>\n",
              "    </tr>\n",
              "    <tr>\n",
              "      <th>4</th>\n",
              "      <td>1821</td>\n",
              "      <td>1048,96</td>\n",
              "      <td>60</td>\n",
              "      <td>9</td>\n",
              "      <td>2022</td>\n",
              "      <td>0</td>\n",
              "      <td>0</td>\n",
              "    </tr>\n",
              "  </tbody>\n",
              "</table>\n",
              "</div>\n",
              "      <button class=\"colab-df-convert\" onclick=\"convertToInteractive('df-0e5d86e5-2ac4-46f2-b64b-a5c2a465a103')\"\n",
              "              title=\"Convert this dataframe to an interactive table.\"\n",
              "              style=\"display:none;\">\n",
              "        \n",
              "  <svg xmlns=\"http://www.w3.org/2000/svg\" height=\"24px\"viewBox=\"0 0 24 24\"\n",
              "       width=\"24px\">\n",
              "    <path d=\"M0 0h24v24H0V0z\" fill=\"none\"/>\n",
              "    <path d=\"M18.56 5.44l.94 2.06.94-2.06 2.06-.94-2.06-.94-.94-2.06-.94 2.06-2.06.94zm-11 1L8.5 8.5l.94-2.06 2.06-.94-2.06-.94L8.5 2.5l-.94 2.06-2.06.94zm10 10l.94 2.06.94-2.06 2.06-.94-2.06-.94-.94-2.06-.94 2.06-2.06.94z\"/><path d=\"M17.41 7.96l-1.37-1.37c-.4-.4-.92-.59-1.43-.59-.52 0-1.04.2-1.43.59L10.3 9.45l-7.72 7.72c-.78.78-.78 2.05 0 2.83L4 21.41c.39.39.9.59 1.41.59.51 0 1.02-.2 1.41-.59l7.78-7.78 2.81-2.81c.8-.78.8-2.07 0-2.86zM5.41 20L4 18.59l7.72-7.72 1.47 1.35L5.41 20z\"/>\n",
              "  </svg>\n",
              "      </button>\n",
              "      \n",
              "  <style>\n",
              "    .colab-df-container {\n",
              "      display:flex;\n",
              "      flex-wrap:wrap;\n",
              "      gap: 12px;\n",
              "    }\n",
              "\n",
              "    .colab-df-convert {\n",
              "      background-color: #E8F0FE;\n",
              "      border: none;\n",
              "      border-radius: 50%;\n",
              "      cursor: pointer;\n",
              "      display: none;\n",
              "      fill: #1967D2;\n",
              "      height: 32px;\n",
              "      padding: 0 0 0 0;\n",
              "      width: 32px;\n",
              "    }\n",
              "\n",
              "    .colab-df-convert:hover {\n",
              "      background-color: #E2EBFA;\n",
              "      box-shadow: 0px 1px 2px rgba(60, 64, 67, 0.3), 0px 1px 3px 1px rgba(60, 64, 67, 0.15);\n",
              "      fill: #174EA6;\n",
              "    }\n",
              "\n",
              "    [theme=dark] .colab-df-convert {\n",
              "      background-color: #3B4455;\n",
              "      fill: #D2E3FC;\n",
              "    }\n",
              "\n",
              "    [theme=dark] .colab-df-convert:hover {\n",
              "      background-color: #434B5C;\n",
              "      box-shadow: 0px 1px 3px 1px rgba(0, 0, 0, 0.15);\n",
              "      filter: drop-shadow(0px 1px 2px rgba(0, 0, 0, 0.3));\n",
              "      fill: #FFFFFF;\n",
              "    }\n",
              "  </style>\n",
              "\n",
              "      <script>\n",
              "        const buttonEl =\n",
              "          document.querySelector('#df-0e5d86e5-2ac4-46f2-b64b-a5c2a465a103 button.colab-df-convert');\n",
              "        buttonEl.style.display =\n",
              "          google.colab.kernel.accessAllowed ? 'block' : 'none';\n",
              "\n",
              "        async function convertToInteractive(key) {\n",
              "          const element = document.querySelector('#df-0e5d86e5-2ac4-46f2-b64b-a5c2a465a103');\n",
              "          const dataTable =\n",
              "            await google.colab.kernel.invokeFunction('convertToInteractive',\n",
              "                                                     [key], {});\n",
              "          if (!dataTable) return;\n",
              "\n",
              "          const docLinkHtml = 'Like what you see? Visit the ' +\n",
              "            '<a target=\"_blank\" href=https://colab.research.google.com/notebooks/data_table.ipynb>data table notebook</a>'\n",
              "            + ' to learn more about interactive tables.';\n",
              "          element.innerHTML = '';\n",
              "          dataTable['output_type'] = 'display_data';\n",
              "          await google.colab.output.renderOutput(dataTable, element);\n",
              "          const docLink = document.createElement('div');\n",
              "          docLink.innerHTML = docLinkHtml;\n",
              "          element.appendChild(docLink);\n",
              "        }\n",
              "      </script>\n",
              "    </div>\n",
              "  </div>\n",
              "  "
            ]
          },
          "metadata": {},
          "execution_count": 6
        }
      ]
    },
    {
      "cell_type": "code",
      "source": [
        "df['Creditos'] = df['Creditos'].str.replace(',','.')\n",
        "print (df['Creditos'])\n",
        "df['Creditos'] = df['Creditos'].astype(float)\n",
        "print (df['Creditos'])"
      ],
      "metadata": {
        "id": "mAxPRpu0Htyz",
        "colab": {
          "base_uri": "https://localhost:8080/"
        },
        "outputId": "1d610ad8-bc8a-454a-9a67-7f04545fd1db"
      },
      "execution_count": 2,
      "outputs": [
        {
          "output_type": "stream",
          "name": "stdout",
          "text": [
            "0         28341.51\n",
            "1         27898.14\n",
            "2           619.00\n",
            "3           364.32\n",
            "4          1048.96\n",
            "            ...   \n",
            "260151      211.04\n",
            "260152      285.53\n",
            "260153      216.85\n",
            "260154      547.96\n",
            "260155      211.74\n",
            "Name: Creditos, Length: 260156, dtype: object\n",
            "0         28341.51\n",
            "1         27898.14\n",
            "2           619.00\n",
            "3           364.32\n",
            "4          1048.96\n",
            "            ...   \n",
            "260151      211.04\n",
            "260152      285.53\n",
            "260153      216.85\n",
            "260154      547.96\n",
            "260155      211.74\n",
            "Name: Creditos, Length: 260156, dtype: float64\n"
          ]
        }
      ]
    },
    {
      "cell_type": "code",
      "source": [
        "import matplotlib.pyplot as plt\n",
        "import numpy as np"
      ],
      "metadata": {
        "id": "q2Njb6emH1u8"
      },
      "execution_count": 3,
      "outputs": []
    },
    {
      "cell_type": "code",
      "source": [
        "### Papéis com ofertas ativas.\n",
        "plt.rcParams.update({'font.size': 14})\n",
        "plt.scatter(df['Tipo_papel'], df['Oferta_compativel'])\n",
        "plt.xlabel('Tipo_papel')\n",
        "plt.ylabel('Oferta_compativel')\n"
      ],
      "metadata": {
        "id": "SI2fHeWJH3LB",
        "colab": {
          "base_uri": "https://localhost:8080/",
          "height": 306
        },
        "outputId": "02a32f59-e807-4963-a7f7-55a79118f467"
      },
      "execution_count": 7,
      "outputs": [
        {
          "output_type": "execute_result",
          "data": {
            "text/plain": [
              "Text(0, 0.5, 'Oferta_compativel')"
            ]
          },
          "metadata": {},
          "execution_count": 7
        },
        {
          "output_type": "display_data",
          "data": {
            "text/plain": [
              "<Figure size 432x288 with 1 Axes>"
            ],
            "image/png": "[encoded data removed]"
          },
          "metadata": {
            "needs_background": "light"
          }
        }
      ]
    },
    {
      "cell_type": "code",
      "source": [
        "### Compra de papéis influenciados por ofertas.\n",
        "x = df['Tipo_papel']\n",
        "y = df['Compra_feita']\n",
        "z = df['Oferta_compativel']\n",
        "\n",
        "plt.plot(x, y, 'go')\n",
        "plt.plot(x, z, 'bo')\n",
        "plt.show()\n"
      ],
      "metadata": {
        "colab": {
          "base_uri": "https://localhost:8080/",
          "height": 269
        },
        "id": "v5j38b5Vs6eE",
        "outputId": "8cc8ebc6-9cad-4bfb-d1a6-aac274e45d59"
      },
      "execution_count": 9,
      "outputs": [
        {
          "output_type": "display_data",
          "data": {
            "text/plain": [
              "<Figure size 432x288 with 1 Axes>"
            ],
            "image/png": "[encoded data removed]"
          },
          "metadata": {
            "needs_background": "light"
          }
        }
      ]
    },
    {
      "cell_type": "code",
      "source": [
        "from mpl_toolkits.mplot3d import Axes3D\n",
        "\n",
        "x = df['Tipo_papel']\n",
        "y = df['Compra_feita']\n",
        "z = df['Oferta_compativel']\n",
        " \n",
        "fig = plt.figure(figsize=(6, 6))\n",
        "ax = fig.add_subplot(111, projection='3d')\n",
        "ax.scatter(x, y, z,\n",
        "           linewidths=1, alpha=.7,\n",
        "           edgecolor='k',\n",
        "           s = 200,\n",
        "           c=z)\n",
        "ax.set_xlabel('Papel')\n",
        "ax.set_ylabel('Compra')\n",
        "ax.set_zlabel('Oferta')\n",
        "plt.show()"
      ],
      "metadata": {
        "colab": {
          "base_uri": "https://localhost:8080/",
          "height": 363
        },
        "id": "RPSMZIu4w3uB",
        "outputId": "4ca5a828-99b6-4e35-92b3-d580a11f5608"
      },
      "execution_count": 10,
      "outputs": [
        {
          "output_type": "display_data",
          "data": {
            "text/plain": [
              "<Figure size 432x432 with 1 Axes>"
            ],
            "image/png": "[encoded data removed]"
          },
          "metadata": {
            "needs_background": "light"
          }
        }
      ]
    },
    {
      "cell_type": "markdown",
      "source": [
        "Normalização da base de dados"
      ],
      "metadata": {
        "id": "4PynaZitIZwu"
      }
    },
    {
      "cell_type": "code",
      "source": [
        "from sklearn.preprocessing import StandardScaler  \n",
        "scaler = StandardScaler()  \n",
        "scaler.fit(df)\n",
        "df_normalizado = scaler.transform(df)\n",
        "print(df_normalizado)"
      ],
      "metadata": {
        "id": "OtmrNTyWH87k",
        "colab": {
          "base_uri": "https://localhost:8080/"
        },
        "outputId": "383c6799-b9a4-49ac-e936-4c16db717a75"
      },
      "execution_count": 37,
      "outputs": [
        {
          "output_type": "stream",
          "name": "stdout",
          "text": [
            "[[-1.50741325e+00  1.59297475e-03 -5.75737234e-01 ...  0.00000000e+00\n",
            "   2.03692219e-01 -3.71604669e-01]\n",
            " [-1.50741325e+00  1.43647442e-03 -5.75737234e-01 ...  0.00000000e+00\n",
            "   2.03692219e-01 -3.71604669e-01]\n",
            " [-1.50741296e+00 -8.19249104e-03  7.08187373e+00 ...  0.00000000e+00\n",
            "  -4.90936769e+00 -3.71604669e-01]\n",
            " ...\n",
            " [ 1.40500175e+00 -8.33444157e-03 -5.75737234e-01 ...  0.00000000e+00\n",
            "   2.03692219e-01 -3.71604669e-01]\n",
            " [ 1.40500175e+00 -8.21756667e-03 -5.75737234e-01 ...  0.00000000e+00\n",
            "   2.03692219e-01 -3.71604669e-01]\n",
            " [ 1.40500175e+00 -8.33624529e-03  7.98705759e-01 ...  0.00000000e+00\n",
            "   2.03692219e-01 -3.71604669e-01]]\n"
          ]
        }
      ]
    },
    {
      "cell_type": "markdown",
      "source": [
        "### Funções de ativação"
      ],
      "metadata": {
        "id": "wWHdee4xFFhh"
      }
    },
    {
      "cell_type": "code",
      "source": [
        "def sigmoid(Soma):\n",
        "    return 1/(1+np.exp(-Soma))\n",
        "\n",
        "def relu(Soma):\n",
        "    return np.maximum(0,Soma)"
      ],
      "metadata": {
        "id": "eS8SU1MpFExn"
      },
      "execution_count": 12,
      "outputs": []
    },
    {
      "cell_type": "markdown",
      "source": [
        "### Criando a estrutura da rede"
      ],
      "metadata": {
        "id": "H1Gr894OFUqX"
      }
    },
    {
      "cell_type": "code",
      "source": [
        "arquitetura = [\n",
        "    {\"dim_entrada\": 2, \"dim_saida\": 50, \"ativacao\": \"relu\"},\n",
        "    {\"dim_entrada\": 50, \"dim_saida\": 1, \"ativacao\": \"sigmoid\"},\n",
        "]"
      ],
      "metadata": {
        "id": "xgU2QpgJFQCz"
      },
      "execution_count": 13,
      "outputs": []
    },
    {
      "cell_type": "markdown",
      "source": [
        "### Pesos e viés"
      ],
      "metadata": {
        "id": "FtT9Dc2tF01I"
      }
    },
    {
      "cell_type": "code",
      "source": [
        "def inicia_camadas(arquitetura, seed = 14031950):\n",
        "    # inicia os valores aleatórios\n",
        "    np.random.seed(seed)\n",
        "    # numero de camadas da rede neural\n",
        "    numero_de_camadas = len(arquitetura)\n",
        "    # inicia armazenamento de parametros\n",
        "    valores_parametros = {}\n",
        "    \n",
        "    # itera nas camadas da rede\n",
        "    for indice, camada in enumerate(arquitetura):\n",
        "        \n",
        "        indice_camada = indice + 1\n",
        "        \n",
        "        # extrai o numero de nodos nas camadas\n",
        "        tamanho_camada_entrada = camada[\"dim_entrada\"]\n",
        "        tamanho_camada_saida = camada[\"dim_saida\"]\n",
        "        \n",
        "        # inicia os valores na matriz de pesos P\n",
        "        # e o vetor de viés ou bias b\n",
        "        valores_parametros['P' + str(indice_camada)] = np.random.randn(\n",
        "            tamanho_camada_saida, tamanho_camada_entrada)  * 0.1\n",
        "        valores_parametros['b' + str(indice_camada)] = np.random.randn(\n",
        "            tamanho_camada_saida, 1) * 0.1\n",
        "        \n",
        "    return valores_parametros"
      ],
      "metadata": {
        "id": "j6JsaWGXFQdH"
      },
      "execution_count": 14,
      "outputs": []
    },
    {
      "cell_type": "markdown",
      "source": [
        "### Propagação da rede"
      ],
      "metadata": {
        "id": "KiS8KKwLB7I9"
      }
    },
    {
      "cell_type": "code",
      "source": [
        "def propaga_uma_camada(Ativado_anterior, Pesos_atual, b_atual, ativacao=\"relu\"):\n",
        "    # cálculo da entrada para a função de ativação\n",
        "    Saida_atual = np.dot(Pesos_atual, Ativado_anterior) + b_atual\n",
        "    \n",
        "    # selecção da função de ativação\n",
        "    if ativacao == \"relu\":\n",
        "        func_ativacao = relu\n",
        "    elif ativacao == \"sigmoid\":\n",
        "        func_ativacao = sigmoid\n",
        "    else:\n",
        "        raise Exception('Ainda não implementamos essa funcao')\n",
        "        \n",
        "    # retorna a ativação calculada Ativado_atual e a matriz intermediária Saida\n",
        "    return func_ativacao(Saida_atual), Saida_atual"
      ],
      "metadata": {
        "id": "9ryiNHT-FQya"
      },
      "execution_count": 16,
      "outputs": []
    },
    {
      "cell_type": "code",
      "source": [
        "def propaga_total(X, valores_parametros, arquitetura):\n",
        "    # memoria temporaria para a retropropagacao\n",
        "    memoria = {}\n",
        "    # O vetor X é a ativação para a camada 0 \n",
        "    Ativado_atual = X\n",
        "    \n",
        "    # iterações para as camadas\n",
        "    for indice, camada in enumerate(arquitetura):\n",
        "        # a numeração das camadas começa de 1\n",
        "        indice_camada = indice + 1\n",
        "        # utiliza a ativação da iteração anterior\n",
        "        Ativado_anterior = Ativado_atual\n",
        "        \n",
        "        # extrai a função de ativação para a camada atual\n",
        "        func_ativacao_atual = camada[\"ativacao\"]\n",
        "        # extrai os pesos da camada atual\n",
        "        Pesos_atual = valores_parametros[\"P\" + str(indice_camada)]\n",
        "        # extrai o bias para a camada atual\n",
        "        b_atual = valores_parametros[\"b\" + str(indice_camada)]\n",
        "        # cálculo da ativação para a camada atual\n",
        "        Ativado_atual, Saida_atual = propaga_uma_camada(Ativado_anterior, Pesos_atual, b_atual, func_ativacao_atual)\n",
        "        \n",
        "        # salca os valores calculados na memória\n",
        "        memoria[\"A\" + str(indice)] = Ativado_anterior\n",
        "        memoria[\"Z\" + str(indice_camada)] = Saida_atual\n",
        "       \n",
        "    # retorna o vetor predito e um dicionário contendo os valores intermediários\n",
        "    return Ativado_atual, memoria"
      ],
      "metadata": {
        "id": "BaGG9sPVCQXp"
      },
      "execution_count": 17,
      "outputs": []
    },
    {
      "cell_type": "markdown",
      "source": [
        "### Testando a rede"
      ],
      "metadata": {
        "id": "OvroU5-sDSF0"
      }
    },
    {
      "cell_type": "code",
      "source": [
        "valores_parametros = inicia_camadas(arquitetura, seed = 99)\n",
        "y_estimado, memoria = propaga_total(1, valores_parametros, arquitetura)"
      ],
      "metadata": {
        "id": "UAvS9Bj9DUcj"
      },
      "execution_count": 23,
      "outputs": []
    },
    {
      "cell_type": "markdown",
      "source": [
        "### Atualização dos pesos"
      ],
      "metadata": {
        "id": "JfL8pNo0KFWx"
      }
    },
    {
      "cell_type": "code",
      "source": [
        "def atualiza(valores_parametros, gradientes, arquitetura, taxa_aprendizagem):\n",
        "\n",
        "    # iterações pelas camadas\n",
        "    for indice_camada, camada in enumerate(arquitetura, 1):\n",
        "        valores_parametros[\"P\" + str(indice_camada)] -= taxa_aprendizagem * gradientes[\"dP\" + str(indice_camada)]        \n",
        "        valores_parametros[\"b\" + str(indice_camada)] -= taxa_aprendizagem * gradientes[\"db\" + str(indice_camada)]\n",
        "\n",
        "    return valores_parametros;"
      ],
      "metadata": {
        "id": "wnf5OxYzFDVj"
      },
      "execution_count": 52,
      "outputs": []
    },
    {
      "cell_type": "markdown",
      "source": [
        "### Função de custo"
      ],
      "metadata": {
        "id": "Tsa5QKpCKPoR"
      }
    },
    {
      "cell_type": "code",
      "source": [
        "def valor_de_custo(Y_predito, Y):\n",
        "    # numero_de_exemplos\n",
        "    m = Y_predito.shape[1]\n",
        "    \n",
        "    custo = -1 / m * (np.dot(Y, np.log(Y_predito).T) + np.dot(1 - Y, np.log(1 - Y_predito).T))\n",
        "    return np.squeeze(custo)"
      ],
      "metadata": {
        "id": "yDERhC5xKQyx"
      },
      "execution_count": 26,
      "outputs": []
    },
    {
      "cell_type": "markdown",
      "source": [
        "### Retropropagação"
      ],
      "metadata": {
        "id": "JtEX3gUgKeZy"
      }
    },
    {
      "cell_type": "code",
      "source": [
        "def retropropagacao_total(Y_predito, Y, memoria, valores_parametros, arquitetura):\n",
        "   \n",
        "    gradientes = {}\n",
        "    \n",
        "    # numero de exemplos\n",
        "    #m = Y.shape[1]\n",
        "    # para garantir que os dois vetores tenham a mesma dimensão\n",
        "    Y = Y.reshape(Y_predito.shape)\n",
        "    \n",
        "    # inicia o algoritmo de gradiente descendente\n",
        "    dAtivado_anterior = - (np.divide(Y, Y_predito) - np.divide(1 - Y, 1 - Y_predito));\n",
        "    \n",
        "    for indice_camada_anterior, camada in reversed(list(enumerate(arquitetura))):\n",
        "        \n",
        "        indice_camada_atual = indice_camada_anterior + 1\n",
        "        # Função de ativação para a camada atual\n",
        "        \n",
        "        funcao_ativao_atual = camada[\"ativacao\"]\n",
        "        \n",
        "        dAtivado_atual = dAtivado_anterior\n",
        "        \n",
        "        Ativado_anterior = memoria[\"A\" + str(indice_camada_anterior)]\n",
        "        Saida_atual = memoria[\"Z\" + str(indice_camada_atual)]\n",
        "        \n",
        "        Pesos_atual = valores_parametros[\"P\" + str(indice_camada_atual)]\n",
        "        b_atual = valores_parametros[\"b\" + str(indice_camada_atual)]\n",
        "        \n",
        "        dAtivado_anterior, dPesos_atual, db_atual = retropropagacao_uma_camada(\n",
        "            dAtivado_atual, Pesos_atual, b_atual, Saida_atual, Ativado_anterior, funcao_ativao_atual)\n",
        "        \n",
        "        gradientes[\"dP\" + str(indice_camada_atual)] = dPesos_atual\n",
        "        gradientes[\"db\" + str(indice_camada_atual)] = db_atual\n",
        "    \n",
        "    return gradientes"
      ],
      "metadata": {
        "id": "JoN34_z4Kffh"
      },
      "execution_count": 27,
      "outputs": []
    },
    {
      "cell_type": "code",
      "source": [
        "def sigmoid_retro(dAtivado, Saida):\n",
        "    sig = sigmoid(Saida)\n",
        "    return dAtivado * sig * (1 - sig)\n",
        "\n",
        "def relu_retro(dAtivado, Saida):\n",
        "    dSaida = np.array(dAtivado, copy = True)\n",
        "    dSaida[Saida <= 0] = 0;\n",
        "    return dSaida;"
      ],
      "metadata": {
        "id": "SuXjtBaBKl1R"
      },
      "execution_count": 28,
      "outputs": []
    },
    {
      "cell_type": "code",
      "source": [
        "def retropropagacao_uma_camada(dAtivado_atual, Pesos_atual, b_atual, Saida_atual, Ativado_anterior, ativacao=\"relu\"):\n",
        "    # número de exemplos\n",
        "    m = Ativado_anterior.shape[1]\n",
        "    \n",
        "    # seleção função de ativação\n",
        "    if ativacao == \"relu\":\n",
        "        func_ativacao_retro = relu_retro\n",
        "    elif ativacao == \"sigmoid\":\n",
        "        func_ativacao_retro = sigmoid_retro\n",
        "    else:\n",
        "        raise Exception('Ainda não implementamos essa funcao')\n",
        "    \n",
        "    # derivada da função de ativação\n",
        "    dSaida_atual = func_ativacao_retro(dAtivado_atual, Saida_atual)\n",
        "    \n",
        "    # derivada da matriz de Pesos\n",
        "    dPesos_atual = np.dot(dSaida_atual, Ativado_anterior.T) / m\n",
        "    # derivada do vetor b\n",
        "    db_atual = np.sum(dSaida_atual, axis=1, keepdims=True) / m\n",
        "    # derivada da matriz A_anterior\n",
        "    dAtivado_anterior = np.dot(Pesos_atual.T, dSaida_atual)\n",
        "\n",
        "    return dAtivado_anterior, dPesos_atual, db_atual"
      ],
      "metadata": {
        "id": "juTZFCfGKqtd"
      },
      "execution_count": 30,
      "outputs": []
    },
    {
      "cell_type": "markdown",
      "source": [
        "###Treinamento"
      ],
      "metadata": {
        "id": "p5dXM-ylKxdZ"
      }
    },
    {
      "cell_type": "code",
      "source": [
        "def treino(X, Y, X_teste, Y_teste, arquitetura, epocas, taxa_aprendizagem):\n",
        "    # Inicia os parâmetros da rede neural\n",
        "    valores_parametros = inicia_camadas(arquitetura, 2)\n",
        "    # Listas que vão guardar o progresso da aprendizagem da rede \n",
        "    historia_custo = []\n",
        "    historia_custo_teste = []\n",
        "       \n",
        "    # Atualiza a cada época\n",
        "    for i in range(epocas):\n",
        "        # Propaga a rede - Foward propagation\n",
        "        Y_predito, memoria = propaga_total(X, valores_parametros, arquitetura)\n",
        "        Y_predito_teste, memoria2 = propaga_total(X_teste, valores_parametros, \n",
        "                                                  arquitetura)\n",
        "        \n",
        "        # calcula as métricas e salva nas listas de história\n",
        "        custo = valor_de_custo(Y_predito, Y)\n",
        "        historia_custo.append(custo)\n",
        "        custo_teste = valor_de_custo(Y_predito_teste, Y_teste)\n",
        "        historia_custo_teste.append(custo_teste)\n",
        "        \n",
        "        # Retropropagação - Backpropagation\n",
        "        gradientes = retropropagacao_total(Y_predito, Y, memoria, \n",
        "                                           valores_parametros, arquitetura)\n",
        "        # Atualiza os pesos\n",
        "        valores_parametros = atualiza(valores_parametros, gradientes, \n",
        "                                      arquitetura, taxa_aprendizagem)\n",
        "        \n",
        "        if(i % 50 == 0):\n",
        "            print(\"Iteração: {:05} - custo: {:.5f} \".format(i, custo))\n",
        "            \n",
        "    return valores_parametros, historia_custo, historia_custo_teste"
      ],
      "metadata": {
        "id": "s99Db6sBKzNS"
      },
      "execution_count": 32,
      "outputs": []
    },
    {
      "cell_type": "code",
      "source": [
        "from sklearn.model_selection import train_test_split\n",
        "X = df[['Compra_feita','Tipo_papel']].values\n",
        "y = df['Oferta_compativel']\n",
        "\n",
        "X_treino, X_teste, y_treino, y_teste = train_test_split( X, y, test_size=0.23, random_state=28091974)\n",
        "print(X_treino.shape)\n",
        "print(y_treino.shape)\n",
        "print(X_teste.shape)\n",
        "print(y_teste.shape)"
      ],
      "metadata": {
        "colab": {
          "base_uri": "https://localhost:8080/"
        },
        "id": "-jF8oLrYLKe7",
        "outputId": "a9802749-6d8f-4a1b-bc5c-203b2eed45dd"
      },
      "execution_count": 117,
      "outputs": [
        {
          "output_type": "stream",
          "name": "stdout",
          "text": [
            "(200320, 2)\n",
            "(200320,)\n",
            "(59836, 2)\n",
            "(59836,)\n"
          ]
        }
      ]
    },
    {
      "cell_type": "code",
      "source": [
        "### Treinamento\n",
        "valores_parametros, historia_custo, historia_custo_teste = treino( np.transpose(X_treino)\n",
        "                                                                , np.transpose(y_treino.values.reshape((y_treino.shape[0], 1))) \n",
        "                                                                , np.transpose(X_teste)\n",
        "                                                                , np.transpose(y_teste.values.reshape((y_teste.shape[0], 1))), \n",
        "                                                                  arquitetura, 210, 0.01)"
      ],
      "metadata": {
        "colab": {
          "base_uri": "https://localhost:8080/"
        },
        "id": "qriGQRnoMtbv",
        "outputId": "13ebdfcf-f6c6-4033-efcd-13c8501e4188"
      },
      "execution_count": 118,
      "outputs": [
        {
          "output_type": "stream",
          "name": "stdout",
          "text": [
            "Iteração: 00000 - custo: 0.35161 \n",
            "Iteração: 00050 - custo: 0.18843 \n",
            "Iteração: 00100 - custo: 0.18836 \n",
            "Iteração: 00150 - custo: 0.18829 \n",
            "Iteração: 00200 - custo: 0.18822 \n"
          ]
        }
      ]
    },
    {
      "cell_type": "code",
      "source": [
        "plt.plot(historia_custo)\n",
        "plt.plot(historia_custo_teste, 'r')\n",
        "plt.legend(['Treinamento','Teste'])\n",
        "plt.ylabel('Custo')\n",
        "plt.xlabel('Épocas')\n",
        "plt.show()"
      ],
      "metadata": {
        "colab": {
          "base_uri": "https://localhost:8080/",
          "height": 303
        },
        "id": "jm2JNqk6T5uz",
        "outputId": "47be983d-ed87-4126-a4ee-120de2a7840d"
      },
      "execution_count": 119,
      "outputs": [
        {
          "output_type": "display_data",
          "data": {
            "text/plain": [
              "<Figure size 432x288 with 1 Axes>"
            ],
            "image/png": "[encoded data removed]"
          },
          "metadata": {
            "needs_background": "light"
          }
        }
      ]
    },
    {
      "cell_type": "markdown",
      "source": [
        "### Fazendo Previsões"
      ],
      "metadata": {
        "id": "yQnpgK6_TP7s"
      }
    },
    {
      "cell_type": "code",
      "source": [
        "# Previsão\n",
        "Y_pred, _ = propaga_total(np.transpose(X_teste), valores_parametros, arquitetura)"
      ],
      "metadata": {
        "id": "xBva-UawT9j0"
      },
      "execution_count": 120,
      "outputs": []
    },
    {
      "cell_type": "code",
      "source": [
        "plt.plot(np.transpose(X_teste)[1],np.amax(y)*y_teste,'.')\n",
        "plt.plot(np.transpose(X_teste)[1],np.amax(y)*Y_pred.reshape([-1,1]),'.r')\n",
        "plt.legend(['Reais','Preditos'])\n",
        "plt.xlabel('Compra_feita')\n",
        "plt.ylabel('Oferta_compativel')\n",
        "plt.show()"
      ],
      "metadata": {
        "colab": {
          "base_uri": "https://localhost:8080/",
          "height": 300
        },
        "id": "9EJWHzm3UFaV",
        "outputId": "1d966536-6612-4130-90e5-4039205af775"
      },
      "execution_count": 121,
      "outputs": [
        {
          "output_type": "display_data",
          "data": {
            "text/plain": [
              "<Figure size 432x288 with 1 Axes>"
            ],
            "image/png": "[encoded data removed]"
          },
          "metadata": {
            "needs_background": "light"
          }
        }
      ]
    },
    {
      "cell_type": "code",
      "source": [
        "plt.plot(3*np.transpose(X_teste)[0],np.amax(y)*y_teste,'.')\n",
        "plt.plot(3*np.transpose(X_teste)[0],np.amax(y)*Y_pred.reshape([-1,1]),'.r')\n",
        "plt.legend(['Reais','Preditos'])\n",
        "plt.xlabel('Tipo_papel')\n",
        "plt.ylabel('Oferta_compativel')\n",
        "plt.rcParams.update({'font.size': 22})\n",
        "indice=[1,2,3]\n",
        "plt.xticks(indice, fontsize=14)\n",
        "plt.show()"
      ],
      "metadata": {
        "colab": {
          "base_uri": "https://localhost:8080/",
          "height": 294
        },
        "id": "PcVLvrWXVK4_",
        "outputId": "b2aa5d71-0d01-42f1-af93-ca9be94186dc"
      },
      "execution_count": 122,
      "outputs": [
        {
          "output_type": "display_data",
          "data": {
            "text/plain": [
              "<Figure size 432x288 with 1 Axes>"
            ],
            "image/png": "[encoded data removed]"
          },
          "metadata": {
            "needs_background": "light"
          }
        }
      ]
    },
    {
      "cell_type": "code",
      "source": [
        "from sklearn.metrics import balanced_accuracy_score\n",
        "from sklearn.metrics import accuracy_score\n",
        "from sklearn.metrics import average_precision_score"
      ],
      "metadata": {
        "id": "OvgZiVpRwIPO"
      },
      "execution_count": 123,
      "outputs": []
    },
    {
      "cell_type": "code",
      "source": [
        "balanced_accuracy_score(y_teste, np.argmax(np.amax(y)*Y_pred.reshape([-1,1]), axis=1))\n",
        "# 0.50\n",
        "###accuracy_score(y_teste, np.argmax(np.amax(y)*Y_pred.reshape([-1,1]), axis=1))\n",
        "# 0.03\n",
        "###average_precision_score(y_teste, np.argmax(np.amax(y)*Y_pred.reshape([-1,1]), axis=1))\n",
        "# 0.96\n",
        "\n",
        "\n"
      ],
      "metadata": {
        "colab": {
          "base_uri": "https://localhost:8080/"
        },
        "id": "Ygj0qNtIwjhM",
        "outputId": "ffecac57-ea4a-4093-bb82-aee3221b34d5"
      },
      "execution_count": 128,
      "outputs": [
        {
          "output_type": "execute_result",
          "data": {
            "text/plain": [
              "0.5"
            ]
          },
          "metadata": {},
          "execution_count": 128
        }
      ]
    },
    {
      "cell_type": "markdown",
      "source": [],
      "metadata": {
        "id": "97R4aXI4TRCj"
      }
    }
  ]
}